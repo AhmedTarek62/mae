{
 "cells": [
  {
   "cell_type": "code",
   "execution_count": 46,
   "metadata": {},
   "outputs": [],
   "source": [
    "import os\n",
    "\n",
    "dataset_path = \"/home/elsayedmohammed/datasets/5g_nr_positioning_Originla\"\n",
    "\n",
    "new_path = \"/home/elsayedmohammed/datasets/5g_nr_positioning\"\n",
    "train_path = os.path.join(new_path, \"train\")\n",
    "test_path = os.path.join(new_path, \"test\")\n",
    "\n",
    "os.makedirs(train_path, exist_ok=True)\n",
    "os.makedirs(test_path, exist_ok=True)"
   ]
  },
  {
   "cell_type": "code",
   "execution_count": 47,
   "metadata": {},
   "outputs": [
    {
     "name": "stdout",
     "output_type": "stream",
     "text": [
      "/home/elsayedmohammed/datasets/5g_nr_positioning_Originla/dataset_SNR20_outdoor.mat\n",
      "Saved training data to: /home/elsayedmohammed/datasets/5g_nr_positioning/train/dataset_SNR20_outdoor.mat\n",
      "Saved testing data to: /home/elsayedmohammed/datasets/5g_nr_positioning/test/dataset_SNR20_outdoor.mat\n",
      "/home/elsayedmohammed/datasets/5g_nr_positioning_Originla/dataset_SNR10_indoor.mat\n",
      "Saved training data to: /home/elsayedmohammed/datasets/5g_nr_positioning/train/dataset_SNR10_indoor.mat\n",
      "Saved testing data to: /home/elsayedmohammed/datasets/5g_nr_positioning/test/dataset_SNR10_indoor.mat\n",
      "/home/elsayedmohammed/datasets/5g_nr_positioning_Originla/dataset_SNR50_indoor.mat\n",
      "Saved training data to: /home/elsayedmohammed/datasets/5g_nr_positioning/train/dataset_SNR50_indoor.mat\n",
      "Saved testing data to: /home/elsayedmohammed/datasets/5g_nr_positioning/test/dataset_SNR50_indoor.mat\n",
      "/home/elsayedmohammed/datasets/5g_nr_positioning_Originla/dataset_SNR50_outdoor.mat\n",
      "Saved training data to: /home/elsayedmohammed/datasets/5g_nr_positioning/train/dataset_SNR50_outdoor.mat\n",
      "Saved testing data to: /home/elsayedmohammed/datasets/5g_nr_positioning/test/dataset_SNR50_outdoor.mat\n",
      "/home/elsayedmohammed/datasets/5g_nr_positioning_Originla/dataset_SNR20_indoor.mat\n",
      "Saved training data to: /home/elsayedmohammed/datasets/5g_nr_positioning/train/dataset_SNR20_indoor.mat\n",
      "Saved testing data to: /home/elsayedmohammed/datasets/5g_nr_positioning/test/dataset_SNR20_indoor.mat\n",
      "/home/elsayedmohammed/datasets/5g_nr_positioning_Originla/dataset_SNR10_outdoor.mat\n",
      "Saved training data to: /home/elsayedmohammed/datasets/5g_nr_positioning/train/dataset_SNR10_outdoor.mat\n",
      "Saved testing data to: /home/elsayedmohammed/datasets/5g_nr_positioning/test/dataset_SNR10_outdoor.mat\n"
     ]
    }
   ],
   "source": [
    "import h5py\n",
    "from sklearn.model_selection import train_test_split\n",
    "from scipy.io import savemat\n",
    "random_seed = 42\n",
    "\n",
    "for base_name in os.listdir(dataset_path):\n",
    "    if base_name[-2:] == 'py':\n",
    "        continue\n",
    "    full_path = os.path.join(dataset_path, base_name)\n",
    "    print(full_path)\n",
    "\n",
    "    with h5py.File(full_path, 'r') as data:\n",
    "        features = data['features'][:]\n",
    "        positions = data['labels']['position'][:]\n",
    "        # Split into training and testing sets\n",
    "    train_features, test_features, train_positions, test_positions = train_test_split(\n",
    "        features, positions, test_size=0.2, random_state=random_seed\n",
    "    )\n",
    "\n",
    "    # Save training set\n",
    "    train_file = os.path.join(train_path, f\"{base_name}\")\n",
    "    with h5py.File(train_file, 'w') as train_data:\n",
    "        train_data.create_dataset('features', data=train_features)\n",
    "        train_data.create_dataset('labels/position', data=train_positions)\n",
    "\n",
    "    # savemat(train_file, {\n",
    "    #     'features': train_features,\n",
    "    #     'labels': {'position': train_positions}\n",
    "    # })\n",
    "    print(f\"Saved training data to: {train_file}\")\n",
    "\n",
    "    # Save testing set\n",
    "    test_file = os.path.join(test_path, f\"{base_name}\")\n",
    "    with h5py.File(test_file, 'w') as test_data:\n",
    "            test_data.create_dataset('features', data=test_features)\n",
    "            test_data.create_dataset('labels/position', data=test_positions)\n",
    "    # savemat(test_file, {\n",
    "    #     'features': test_features,\n",
    "    #     'labels': {'position': test_positions}\n",
    "    # })\n",
    "    print(f\"Saved testing data to: {test_file}\")\n"
   ]
  },
  {
   "cell_type": "code",
   "execution_count": 30,
   "metadata": {},
   "outputs": [
    {
     "name": "stdout",
     "output_type": "stream",
     "text": [
      "11628\n"
     ]
    }
   ],
   "source": [
    "from dataset_classes.positioning_nr_dataset import PositioningNR\n",
    "\n",
    "dataset = PositioningNR(dataset_path, scene=\"outdoor\")\n",
    "\n",
    "num_samples = len(dataset)\n",
    "print(num_samples)"
   ]
  },
  {
   "cell_type": "code",
   "execution_count": 31,
   "metadata": {},
   "outputs": [],
   "source": [
    "from torch.utils.data import random_split\n",
    "import torch\n",
    "\n",
    "seed = 42\n",
    "\n",
    "dataset_train, dataset_test = random_split(dataset, [0.8, 0.2], generator=torch.Generator().manual_seed(seed))"
   ]
  },
  {
   "cell_type": "code",
   "execution_count": 32,
   "metadata": {},
   "outputs": [
    {
     "data": {
      "text/plain": [
       "11628"
      ]
     },
     "execution_count": 32,
     "metadata": {},
     "output_type": "execute_result"
    }
   ],
   "source": [
    "len(dataset_train) + len(dataset_test)"
   ]
  },
  {
   "cell_type": "code",
   "execution_count": 33,
   "metadata": {},
   "outputs": [],
   "source": [
    "# Function to extract features and labels from a subset\n",
    "import numpy as np\n",
    "\n",
    "def extract_data(subset):\n",
    "    features_list, labels_list = [], []\n",
    "    for features, labels in subset:\n",
    "        features_list.append(features.numpy())  # Convert to NumPy array\n",
    "        labels_list.append(labels.numpy())\n",
    "    return np.stack(features_list), np.stack(labels_list)\n",
    "\n",
    "# Extract training and testing data\n",
    "train_features, train_labels = extract_data(dataset_train)\n",
    "test_features, test_labels = extract_data(dataset_test)"
   ]
  },
  {
   "cell_type": "code",
   "execution_count": 34,
   "metadata": {},
   "outputs": [
    {
     "name": "stdout",
     "output_type": "stream",
     "text": [
      "(9303, 4, 224, 224)\n",
      "(9303, 3)\n",
      "(2325, 4, 224, 224)\n",
      "(2325, 3)\n"
     ]
    }
   ],
   "source": [
    "print(train_features.shape)\n",
    "print(train_labels.shape)\n",
    "print(test_features.shape)\n",
    "print(test_labels.shape)"
   ]
  },
  {
   "cell_type": "code",
   "execution_count": null,
   "metadata": {},
   "outputs": [],
   "source": [
    "from scipy.io import savemat\n",
    "\n",
    "def save_to_multiple_files(features, labels, output_path, prefix, chunk_size=1000):\n",
    "    \"\"\"\n",
    "    Save the data in chunks into multiple .mat files.\n",
    "    \"\"\"\n",
    "    os.makedirs(output_path, exist_ok=True)\n",
    "    num_samples = features.shape[0]\n",
    "\n",
    "    for i in range(0, num_samples, chunk_size):\n",
    "        # Define the chunk range\n",
    "        start_idx = i\n",
    "        end_idx = min(i + chunk_size, num_samples)\n",
    "\n",
    "        # Extract the chunk\n",
    "        chunk_features = features[start_idx:end_idx]\n",
    "        chunk_labels = labels[start_idx:end_idx]\n",
    "\n",
    "        # Save to .mat file\n",
    "        filename = f\"{prefix}_chunk_{start_idx // chunk_size}.mat\"\n",
    "        filepath = os.path.join(output_path, filename)\n",
    "\n",
    "        savemat(filepath, {\n",
    "            \"features\": chunk_features,\n",
    "            \"labels\": chunk_labels\n",
    "        })\n",
    "        print(f\"Saved chunk {start_idx // chunk_size} to {filepath}\")"
   ]
  },
  {
   "cell_type": "code",
   "execution_count": null,
   "metadata": {},
   "outputs": [
    {
     "ename": "OverflowError",
     "evalue": "Python integer 7468597248 out of bounds for uint32",
     "output_type": "error",
     "traceback": [
      "\u001b[0;31m---------------------------------------------------------------------------\u001b[0m",
      "\u001b[0;31mOverflowError\u001b[0m                             Traceback (most recent call last)",
      "Cell \u001b[0;32mIn[35], line 3\u001b[0m\n\u001b[1;32m      1\u001b[0m \u001b[38;5;28;01mfrom\u001b[39;00m \u001b[38;5;21;01mscipy\u001b[39;00m\u001b[38;5;21;01m.\u001b[39;00m\u001b[38;5;21;01mio\u001b[39;00m \u001b[38;5;28;01mimport\u001b[39;00m savemat\n\u001b[1;32m      2\u001b[0m \u001b[38;5;66;03m# Save the splits to .mat files\u001b[39;00m\n\u001b[0;32m----> 3\u001b[0m \u001b[43msavemat\u001b[49m\u001b[43m(\u001b[49m\u001b[43mos\u001b[49m\u001b[38;5;241;43m.\u001b[39;49m\u001b[43mpath\u001b[49m\u001b[38;5;241;43m.\u001b[39;49m\u001b[43mjoin\u001b[49m\u001b[43m(\u001b[49m\u001b[43mtrain_path\u001b[49m\u001b[43m,\u001b[49m\u001b[43m \u001b[49m\u001b[38;5;124;43m\"\u001b[39;49m\u001b[38;5;124;43mdata.mat\u001b[39;49m\u001b[38;5;124;43m\"\u001b[39;49m\u001b[43m)\u001b[49m\u001b[43m,\u001b[49m\u001b[43m \u001b[49m\u001b[43m{\u001b[49m\n\u001b[1;32m      4\u001b[0m \u001b[43m    \u001b[49m\u001b[38;5;124;43m\"\u001b[39;49m\u001b[38;5;124;43mfeatures\u001b[39;49m\u001b[38;5;124;43m\"\u001b[39;49m\u001b[43m:\u001b[49m\u001b[43m \u001b[49m\u001b[43mtrain_features\u001b[49m\u001b[43m,\u001b[49m\n\u001b[1;32m      5\u001b[0m \u001b[43m    \u001b[49m\u001b[38;5;124;43m\"\u001b[39;49m\u001b[38;5;124;43mlabels\u001b[39;49m\u001b[38;5;124;43m\"\u001b[39;49m\u001b[43m:\u001b[49m\u001b[43m \u001b[49m\u001b[43mtrain_labels\u001b[49m\n\u001b[1;32m      6\u001b[0m \u001b[43m}\u001b[49m\u001b[43m)\u001b[49m\n\u001b[1;32m      7\u001b[0m savemat(os\u001b[38;5;241m.\u001b[39mpath\u001b[38;5;241m.\u001b[39mjoin(test_path, \u001b[38;5;124m\"\u001b[39m\u001b[38;5;124mdata.mat\u001b[39m\u001b[38;5;124m\"\u001b[39m), {\n\u001b[1;32m      8\u001b[0m     \u001b[38;5;124m\"\u001b[39m\u001b[38;5;124mfeatures\u001b[39m\u001b[38;5;124m\"\u001b[39m: test_features,\n\u001b[1;32m      9\u001b[0m     \u001b[38;5;124m\"\u001b[39m\u001b[38;5;124mlabels\u001b[39m\u001b[38;5;124m\"\u001b[39m: test_labels\n\u001b[1;32m     10\u001b[0m })\n",
      "File \u001b[0;32m~/AoA-Pruning/pruning-venv/lib/python3.10/site-packages/scipy/io/matlab/_mio.py:301\u001b[0m, in \u001b[0;36msavemat\u001b[0;34m(file_name, mdict, appendmat, format, long_field_names, do_compression, oned_as)\u001b[0m\n\u001b[1;32m    299\u001b[0m \u001b[38;5;28;01melse\u001b[39;00m:\n\u001b[1;32m    300\u001b[0m     \u001b[38;5;28;01mraise\u001b[39;00m \u001b[38;5;167;01mValueError\u001b[39;00m(\u001b[38;5;124m\"\u001b[39m\u001b[38;5;124mFormat should be \u001b[39m\u001b[38;5;124m'\u001b[39m\u001b[38;5;124m4\u001b[39m\u001b[38;5;124m'\u001b[39m\u001b[38;5;124m or \u001b[39m\u001b[38;5;124m'\u001b[39m\u001b[38;5;124m5\u001b[39m\u001b[38;5;124m'\u001b[39m\u001b[38;5;124m\"\u001b[39m)\n\u001b[0;32m--> 301\u001b[0m \u001b[43mMW\u001b[49m\u001b[38;5;241;43m.\u001b[39;49m\u001b[43mput_variables\u001b[49m\u001b[43m(\u001b[49m\u001b[43mmdict\u001b[49m\u001b[43m)\u001b[49m\n",
      "File \u001b[0;32m~/AoA-Pruning/pruning-venv/lib/python3.10/site-packages/scipy/io/matlab/_mio5.py:895\u001b[0m, in \u001b[0;36mMatFile5Writer.put_variables\u001b[0;34m(self, mdict, write_header)\u001b[0m\n\u001b[1;32m    893\u001b[0m     \u001b[38;5;28mself\u001b[39m\u001b[38;5;241m.\u001b[39mfile_stream\u001b[38;5;241m.\u001b[39mwrite(out_str)\n\u001b[1;32m    894\u001b[0m \u001b[38;5;28;01melse\u001b[39;00m:  \u001b[38;5;66;03m# not compressing\u001b[39;00m\n\u001b[0;32m--> 895\u001b[0m     \u001b[38;5;28;43mself\u001b[39;49m\u001b[38;5;241;43m.\u001b[39;49m\u001b[43m_matrix_writer\u001b[49m\u001b[38;5;241;43m.\u001b[39;49m\u001b[43mwrite_top\u001b[49m\u001b[43m(\u001b[49m\u001b[43mvar\u001b[49m\u001b[43m,\u001b[49m\u001b[43m \u001b[49m\u001b[43mname\u001b[49m\u001b[38;5;241;43m.\u001b[39;49m\u001b[43mencode\u001b[49m\u001b[43m(\u001b[49m\u001b[38;5;124;43m'\u001b[39;49m\u001b[38;5;124;43mlatin1\u001b[39;49m\u001b[38;5;124;43m'\u001b[39;49m\u001b[43m)\u001b[49m\u001b[43m,\u001b[49m\u001b[43m \u001b[49m\u001b[43mis_global\u001b[49m\u001b[43m)\u001b[49m\n",
      "File \u001b[0;32m~/AoA-Pruning/pruning-venv/lib/python3.10/site-packages/scipy/io/matlab/_mio5.py:637\u001b[0m, in \u001b[0;36mVarWriter5.write_top\u001b[0;34m(self, arr, name, is_global)\u001b[0m\n\u001b[1;32m    635\u001b[0m \u001b[38;5;28mself\u001b[39m\u001b[38;5;241m.\u001b[39m_var_name \u001b[38;5;241m=\u001b[39m name\n\u001b[1;32m    636\u001b[0m \u001b[38;5;66;03m# write the header and data\u001b[39;00m\n\u001b[0;32m--> 637\u001b[0m \u001b[38;5;28;43mself\u001b[39;49m\u001b[38;5;241;43m.\u001b[39;49m\u001b[43mwrite\u001b[49m\u001b[43m(\u001b[49m\u001b[43marr\u001b[49m\u001b[43m)\u001b[49m\n",
      "File \u001b[0;32m~/AoA-Pruning/pruning-venv/lib/python3.10/site-packages/scipy/io/matlab/_mio5.py:675\u001b[0m, in \u001b[0;36mVarWriter5.write\u001b[0;34m(self, arr)\u001b[0m\n\u001b[1;32m    673\u001b[0m     \u001b[38;5;28mself\u001b[39m\u001b[38;5;241m.\u001b[39mwrite_char(narr, codec)\n\u001b[1;32m    674\u001b[0m \u001b[38;5;28;01melse\u001b[39;00m:\n\u001b[0;32m--> 675\u001b[0m     \u001b[38;5;28;43mself\u001b[39;49m\u001b[38;5;241;43m.\u001b[39;49m\u001b[43mwrite_numeric\u001b[49m\u001b[43m(\u001b[49m\u001b[43mnarr\u001b[49m\u001b[43m)\u001b[49m\n\u001b[1;32m    676\u001b[0m \u001b[38;5;28mself\u001b[39m\u001b[38;5;241m.\u001b[39mupdate_matrix_tag(mat_tag_pos)\n",
      "File \u001b[0;32m~/AoA-Pruning/pruning-venv/lib/python3.10/site-packages/scipy/io/matlab/_mio5.py:701\u001b[0m, in \u001b[0;36mVarWriter5.write_numeric\u001b[0;34m(self, arr)\u001b[0m\n\u001b[1;32m    699\u001b[0m     \u001b[38;5;28mself\u001b[39m\u001b[38;5;241m.\u001b[39mwrite_element(arr\u001b[38;5;241m.\u001b[39mimag)\n\u001b[1;32m    700\u001b[0m \u001b[38;5;28;01melse\u001b[39;00m:\n\u001b[0;32m--> 701\u001b[0m     \u001b[38;5;28;43mself\u001b[39;49m\u001b[38;5;241;43m.\u001b[39;49m\u001b[43mwrite_element\u001b[49m\u001b[43m(\u001b[49m\u001b[43marr\u001b[49m\u001b[43m)\u001b[49m\n",
      "File \u001b[0;32m~/AoA-Pruning/pruning-venv/lib/python3.10/site-packages/scipy/io/matlab/_mio5.py:543\u001b[0m, in \u001b[0;36mVarWriter5.write_element\u001b[0;34m(self, arr, mdtype)\u001b[0m\n\u001b[1;32m    541\u001b[0m     \u001b[38;5;28mself\u001b[39m\u001b[38;5;241m.\u001b[39mwrite_smalldata_element(arr, mdtype, byte_count)\n\u001b[1;32m    542\u001b[0m \u001b[38;5;28;01melse\u001b[39;00m:\n\u001b[0;32m--> 543\u001b[0m     \u001b[38;5;28;43mself\u001b[39;49m\u001b[38;5;241;43m.\u001b[39;49m\u001b[43mwrite_regular_element\u001b[49m\u001b[43m(\u001b[49m\u001b[43marr\u001b[49m\u001b[43m,\u001b[49m\u001b[43m \u001b[49m\u001b[43mmdtype\u001b[49m\u001b[43m,\u001b[49m\u001b[43m \u001b[49m\u001b[43mbyte_count\u001b[49m\u001b[43m)\u001b[49m\n",
      "File \u001b[0;32m~/AoA-Pruning/pruning-venv/lib/python3.10/site-packages/scipy/io/matlab/_mio5.py:557\u001b[0m, in \u001b[0;36mVarWriter5.write_regular_element\u001b[0;34m(self, arr, mdtype, byte_count)\u001b[0m\n\u001b[1;32m    555\u001b[0m tag \u001b[38;5;241m=\u001b[39m np\u001b[38;5;241m.\u001b[39mzeros((), NDT_TAG_FULL)\n\u001b[1;32m    556\u001b[0m tag[\u001b[38;5;124m'\u001b[39m\u001b[38;5;124mmdtype\u001b[39m\u001b[38;5;124m'\u001b[39m] \u001b[38;5;241m=\u001b[39m mdtype\n\u001b[0;32m--> 557\u001b[0m \u001b[43mtag\u001b[49m\u001b[43m[\u001b[49m\u001b[38;5;124;43m'\u001b[39;49m\u001b[38;5;124;43mbyte_count\u001b[39;49m\u001b[38;5;124;43m'\u001b[39;49m\u001b[43m]\u001b[49m \u001b[38;5;241m=\u001b[39m byte_count\n\u001b[1;32m    558\u001b[0m \u001b[38;5;28mself\u001b[39m\u001b[38;5;241m.\u001b[39mwrite_bytes(tag)\n\u001b[1;32m    559\u001b[0m \u001b[38;5;28mself\u001b[39m\u001b[38;5;241m.\u001b[39mwrite_bytes(arr)\n",
      "\u001b[0;31mOverflowError\u001b[0m: Python integer 7468597248 out of bounds for uint32"
     ]
    }
   ],
   "source": [
    "# Save the splits to .mat files\n",
    "savemat(os.path.join(train_path, \"data.mat\"), {\n",
    "    \"features\": train_features,\n",
    "    \"labels\": train_labels\n",
    "})\n",
    "savemat(os.path.join(test_path, \"data.mat\"), {\n",
    "    \"features\": test_features,\n",
    "    \"labels\": test_labels\n",
    "})"
   ]
  },
  {
   "cell_type": "code",
   "execution_count": 18,
   "metadata": {},
   "outputs": [
    {
     "ename": "AttributeError",
     "evalue": "'Subset' object has no attribute 'img_size'",
     "output_type": "error",
     "traceback": [
      "\u001b[0;31m---------------------------------------------------------------------------\u001b[0m",
      "\u001b[0;31mAttributeError\u001b[0m                            Traceback (most recent call last)",
      "Cell \u001b[0;32mIn[18], line 1\u001b[0m\n\u001b[0;32m----> 1\u001b[0m \u001b[43mt\u001b[49m\u001b[38;5;241;43m.\u001b[39;49m\u001b[43mimg_size\u001b[49m\n",
      "\u001b[0;31mAttributeError\u001b[0m: 'Subset' object has no attribute 'img_size'"
     ]
    }
   ],
   "source": [
    "t.img_size"
   ]
  }
 ],
 "metadata": {
  "kernelspec": {
   "display_name": "pruning-venv",
   "language": "python",
   "name": "python3"
  },
  "language_info": {
   "codemirror_mode": {
    "name": "ipython",
    "version": 3
   },
   "file_extension": ".py",
   "mimetype": "text/x-python",
   "name": "python",
   "nbconvert_exporter": "python",
   "pygments_lexer": "ipython3",
   "version": "3.10.12"
  }
 },
 "nbformat": 4,
 "nbformat_minor": 2
}
