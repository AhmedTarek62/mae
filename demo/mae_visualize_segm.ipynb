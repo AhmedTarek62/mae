{
 "cells": [
  {
   "cell_type": "markdown",
   "id": "15c2148f-c1b0-46e0-87f6-2db29e13d5b8",
   "metadata": {},
   "source": [
    "## Masked Autoencoders: Visualization Demo\n",
    "\n",
    "This is a visualization demo using our pre-trained MAE models. No GPU is needed."
   ]
  },
  {
   "cell_type": "markdown",
   "id": "fffa39c9-ca9b-4da0-90a4-de96bebbf755",
   "metadata": {},
   "source": [
    "### Prepare\n",
    "Check environment. Install packages if in Colab.\n"
   ]
  },
  {
   "cell_type": "code",
   "id": "1eae7403-f458-4f55-a557-4e045bd6f679",
   "metadata": {
    "ExecuteTime": {
     "end_time": "2024-11-05T17:00:22.549720Z",
     "start_time": "2024-11-05T17:00:16.785747Z"
    }
   },
   "source": [
    "import torch\n",
    "import numpy as np\n",
    "\n",
    "import matplotlib.pyplot as plt\n",
    "import models_segmentation\n",
    "\n",
    "from pathlib import Path\n",
    "import seaborn as sns\n",
    "from matplotlib.colors import ListedColormap\n",
    "import matplotlib.patches as mpatches\n",
    "\n",
    "from dataset_classes.segmentation_dataset import SegmentationDataset\n",
    "from torch.utils.data import DataLoader\n",
    "from tqdm import tqdm\n",
    "from sklearn.metrics import confusion_matrix\n"
   ],
   "outputs": [],
   "execution_count": 1
  },
  {
   "cell_type": "markdown",
   "id": "2f7797ef-412a-439f-911e-3be294047629",
   "metadata": {},
   "source": [
    "### Define utils"
   ]
  },
  {
   "cell_type": "code",
   "id": "4573e6be-935a-4106-8c06-e467552b0e3d",
   "metadata": {
    "ExecuteTime": {
     "end_time": "2024-11-05T17:00:22.565217Z",
     "start_time": "2024-11-05T17:00:22.550737Z"
    }
   },
   "source": [
    "def prepare_model(chkpt_dir, arch='seg_vit_large_patch16'):\n",
    "    # build model\n",
    "    model = getattr(models_segmentation, arch)()\n",
    "    # load model\n",
    "    checkpoint = torch.load(chkpt_dir, map_location='cpu')\n",
    "    checkpoint_model = checkpoint['model']\n",
    "    msg = model.load_state_dict(checkpoint_model, strict=False)\n",
    "    print(msg)\n",
    "    return model\n",
    "\n",
    "def display_confusion_mat(conf_mat: np.ndarray, class_labels, title='', normalize=True):\n",
    "    if normalize:\n",
    "        # Normalize the confusion matrix if specified\n",
    "        row_sums = conf_mat.sum(axis=1, keepdims=True)\n",
    "        conf_mat = conf_mat / row_sums.astype(float)\n",
    "\n",
    "    # Set up the figure\n",
    "    plt.figure()\n",
    "\n",
    "    # Create a heatmap using seaborn\n",
    "    sns.heatmap(conf_mat, annot=True, fmt='.2f' if normalize else 'd', cmap='Reds',\n",
    "                xticklabels=class_labels, yticklabels=class_labels)\n",
    "\n",
    "    # Configure plot labels and title\n",
    "    plt.xlabel('Predicted Labels')\n",
    "    plt.ylabel('True Labels')\n",
    "    plt.title(f'{title} Confusion Matrix')\n",
    "    plt.savefig(f\"{title}.png\", dpi=800)\n",
    "    # Display the plot\n",
    "    plt.show()"
   ],
   "outputs": [],
   "execution_count": 2
  },
  {
   "cell_type": "markdown",
   "id": "8b7e691d-93d2-439f-91d6-c22716a897b5",
   "metadata": {},
   "source": "### Load a pre-trained MAE model"
  },
  {
   "cell_type": "code",
   "id": "fd2d7da9-f75c-4b27-a84b-6d1247f73a7d",
   "metadata": {
    "ExecuteTime": {
     "end_time": "2024-11-05T17:00:28.384728Z",
     "start_time": "2024-11-05T17:00:27.019953Z"
    }
   },
   "source": [
    "device = torch.device('cuda' if torch.cuda.is_available() else 'cpu')\n",
    "chkpt_dir = Path('../checkpoints/finetuned_small_segm_75.pth')\n",
    "model = prepare_model(chkpt_dir, arch='seg_vit_small_patch16')\n",
    "model = model.to(device)\n",
    "model.eval()"
   ],
   "outputs": [
    {
     "name": "stdout",
     "output_type": "stream",
     "text": [
      "<All keys matched successfully>\n"
     ]
    },
    {
     "data": {
      "text/plain": [
       "SegmentationViT(\n",
       "  (patch_embed): PatchEmbed(\n",
       "    (proj): Conv2d(1, 512, kernel_size=(16, 16), stride=(16, 16))\n",
       "    (norm): Identity()\n",
       "  )\n",
       "  (blocks): ModuleList(\n",
       "    (0-11): 12 x Block(\n",
       "      (norm1): LayerNorm((512,), eps=1e-05, elementwise_affine=True)\n",
       "      (attn): Attention(\n",
       "        (qkv): Linear(in_features=512, out_features=1536, bias=True)\n",
       "        (q_norm): Identity()\n",
       "        (k_norm): Identity()\n",
       "        (attn_drop): Dropout(p=0.0, inplace=False)\n",
       "        (proj): Linear(in_features=512, out_features=512, bias=True)\n",
       "        (proj_drop): Dropout(p=0.0, inplace=False)\n",
       "      )\n",
       "      (ls1): Identity()\n",
       "      (drop_path1): Identity()\n",
       "      (norm2): LayerNorm((512,), eps=1e-05, elementwise_affine=True)\n",
       "      (mlp): Mlp(\n",
       "        (fc1): Linear(in_features=512, out_features=2048, bias=True)\n",
       "        (act): GELU(approximate='none')\n",
       "        (drop1): Dropout(p=0.0, inplace=False)\n",
       "        (norm): Identity()\n",
       "        (fc2): Linear(in_features=2048, out_features=512, bias=True)\n",
       "        (drop2): Dropout(p=0.0, inplace=False)\n",
       "      )\n",
       "      (ls2): Identity()\n",
       "      (drop_path2): Identity()\n",
       "    )\n",
       "  )\n",
       "  (norm): LayerNorm((512,), eps=1e-06, elementwise_affine=True)\n",
       "  (decoder_embed): Linear(in_features=512, out_features=256, bias=True)\n",
       "  (decoder_blocks): ModuleList(\n",
       "    (0-7): 8 x Block(\n",
       "      (norm1): LayerNorm((256,), eps=1e-05, elementwise_affine=True)\n",
       "      (attn): Attention(\n",
       "        (qkv): Linear(in_features=256, out_features=768, bias=True)\n",
       "        (q_norm): Identity()\n",
       "        (k_norm): Identity()\n",
       "        (attn_drop): Dropout(p=0.0, inplace=False)\n",
       "        (proj): Linear(in_features=256, out_features=256, bias=True)\n",
       "        (proj_drop): Dropout(p=0.0, inplace=False)\n",
       "      )\n",
       "      (ls1): Identity()\n",
       "      (drop_path1): Identity()\n",
       "      (norm2): LayerNorm((256,), eps=1e-05, elementwise_affine=True)\n",
       "      (mlp): Mlp(\n",
       "        (fc1): Linear(in_features=256, out_features=1024, bias=True)\n",
       "        (act): GELU(approximate='none')\n",
       "        (drop1): Dropout(p=0.0, inplace=False)\n",
       "        (norm): Identity()\n",
       "        (fc2): Linear(in_features=1024, out_features=256, bias=True)\n",
       "        (drop2): Dropout(p=0.0, inplace=False)\n",
       "      )\n",
       "      (ls2): Identity()\n",
       "      (drop_path2): Identity()\n",
       "    )\n",
       "  )\n",
       "  (decoder_norm): LayerNorm((256,), eps=1e-06, elementwise_affine=True)\n",
       "  (decoder_pred): Linear(in_features=256, out_features=768, bias=True)\n",
       ")"
      ]
     },
     "execution_count": 3,
     "metadata": {},
     "output_type": "execute_result"
    }
   ],
   "execution_count": 3
  },
  {
   "metadata": {},
   "cell_type": "markdown",
   "source": "### Load dataset",
   "id": "30cabef4aa134916"
  },
  {
   "metadata": {
    "ExecuteTime": {
     "end_time": "2024-11-05T17:00:40.346073Z",
     "start_time": "2024-11-05T17:00:30.387530Z"
    }
   },
   "cell_type": "code",
   "source": "dataset_test = SegmentationDataset(dataset_dir=Path('../../datasets/SegmentationData/Test/LTE_NR'))",
   "id": "3e63c2ed46b86dcc",
   "outputs": [],
   "execution_count": 4
  },
  {
   "cell_type": "markdown",
   "id": "7d15a0a7-c093-439a-9a4d-c37ce0c0eaa6",
   "metadata": {},
   "source": "### Run VIT on one image"
  },
  {
   "metadata": {
    "ExecuteTime": {
     "end_time": "2024-11-05T17:00:41.184360Z",
     "start_time": "2024-11-05T17:00:40.348080Z"
    }
   },
   "cell_type": "code",
   "source": [
    "sample, target = dataset_test[np.random.randint(0, len(dataset_test))]\n",
    "sample = sample.unsqueeze(0).to(device)\n",
    "output = model(sample).squeeze(0).argmax(dim=0).detach().cpu().numpy()\n",
    "target = target.squeeze(0).detach().cpu().numpy()\n",
    "\n",
    "colors = ['c', 'b', 'm']\n",
    "class_list = ['Noise', 'NR', 'LTE']\n",
    "legend_patches = [mpatches.Patch(color=color, label=class_list[i]) for i, color in enumerate(colors)]\n",
    "\n",
    "cmap = ListedColormap(colors)\n",
    "fig, axs = plt.subplots(nrows=1, ncols=2, sharex=True, sharey=True)\n",
    "fig.set_figwidth(12)\n",
    "fig.set_figheight(4)\n",
    "\n",
    "axs[0].imshow(target, cmap=cmap, interpolation='none')\n",
    "axs[1].imshow(output, cmap=cmap, interpolation='none')\n",
    "\n",
    "# Titles and labels\n",
    "axs[0].set_title('Target', fontsize=12, pad=10)\n",
    "axs[1].set_title('Model', fontsize=12, pad=10)\n",
    "axs[0].set_xlabel('Time Steps', fontsize=10, labelpad=8)\n",
    "axs[1].set_xlabel('Time Steps', fontsize=10, labelpad=8)\n",
    "axs[0].set_ylabel('Frequency Bins', fontsize=10, labelpad=8)\n",
    "\n",
    "# Turn off grid and remove spines\n",
    "for ax in axs:\n",
    "    ax.grid(False)\n",
    "    for spine in ax.spines.values():\n",
    "        spine.set_visible(False)\n",
    "\n",
    "# Legend\n",
    "fig.legend(handles=legend_patches, ncol=3, loc='upper center', fontsize=10, bbox_to_anchor=(0.5, 1.05), frameon=False)\n",
    "plt.show()\n"
   ],
   "id": "d92715656bfe1905",
   "outputs": [
    {
     "name": "stderr",
     "output_type": "stream",
     "text": [
      "C:\\Users\\ahmed\\PycharmProjects\\QoherentLnC_V2\\.venv\\lib\\site-packages\\timm\\models\\vision_transformer.py:92: UserWarning: 1Torch was not compiled with flash attention. (Triggered internally at ..\\aten\\src\\ATen\\native\\transformers\\cuda\\sdp_utils.cpp:263.)\n",
      "  x = F.scaled_dot_product_attention(\n"
     ]
    },
    {
     "data": {
      "text/plain": [
       "<Figure size 1200x400 with 2 Axes>"
      ],
      "image/png": "[encoded data removed]"
     },
     "metadata": {},
     "output_type": "display_data"
    }
   ],
   "execution_count": 5
  },
  {
   "metadata": {},
   "cell_type": "markdown",
   "source": "### Confusion Matrices",
   "id": "aa4833d1a5117c26"
  },
  {
   "metadata": {
    "ExecuteTime": {
     "end_time": "2024-11-05T17:01:28.712722Z",
     "start_time": "2024-11-05T17:00:48.645091Z"
    }
   },
   "cell_type": "code",
   "source": [
    "test_loader = DataLoader(dataset_test, batch_size=16)\n",
    "\n",
    "conf_mat = np.zeros((3, 3))\n",
    "with torch.no_grad():\n",
    "    with tqdm(test_loader, desc='Plotting', unit='batch') as pbar:\n",
    "        for samples, targets in pbar:\n",
    "            samples = samples.to(device)\n",
    "            outputs = model(samples)\n",
    "            outputs = outputs.permute(0, 2, 3, 1).reshape(-1, outputs.shape[1]).argmax(dim=-1).detach().cpu().numpy()\n",
    "            targets = targets.view(-1).detach().cpu().numpy()\n",
    "            conf_mat += confusion_matrix(outputs, targets)\n",
    "            \n",
    "display_confusion_mat(conf_mat, ['Noise', 'NR', 'LTE'], normalize=True, title='ViT-S')"
   ],
   "id": "4244806a7be6473c",
   "outputs": [
    {
     "name": "stderr",
     "output_type": "stream",
     "text": [
      "Plotting: 100%|██████████| 94/94 [00:38<00:00,  2.42batch/s]\n"
     ]
    },
    {
     "data": {
      "text/plain": [
       "<Figure size 640x480 with 2 Axes>"
      ],
      "image/png": "[encoded data removed]"
     },
     "metadata": {},
     "output_type": "display_data"
    }
   ],
   "execution_count": 6
  },
  {
   "metadata": {},
   "cell_type": "code",
   "outputs": [],
   "execution_count": null,
   "source": "",
   "id": "c987481f91eba011"
  }
 ],
 "metadata": {
  "kernelspec": {
   "display_name": "Python 3",
   "language": "python",
   "name": "python3"
  },
  "language_info": {
   "codemirror_mode": {
    "name": "ipython",
    "version": 3
   },
   "file_extension": ".py",
   "mimetype": "text/x-python",
   "name": "python",
   "nbconvert_exporter": "python",
   "pygments_lexer": "ipython3",
   "version": "3.9.4"
  }
 },
 "nbformat": 4,
 "nbformat_minor": 5
}
