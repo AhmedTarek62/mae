{
 "cells": [
  {
   "cell_type": "code",
   "execution_count": 2,
   "metadata": {},
   "outputs": [],
   "source": [
    "import argparse\n",
    "import datetime\n",
    "import json\n",
    "import numpy as np\n",
    "import os\n",
    "import time\n",
    "from pathlib import Path\n",
    "\n",
    "import torch\n",
    "import torch.backends.cudnn as cudnn\n",
    "from torch.utils.tensorboard import SummaryWriter\n",
    "\n",
    "import util.lr_decay as lrd\n",
    "import util.misc as misc\n",
    "from util.misc import NativeScalerWithGradNormCount as NativeScaler\n",
    "from timm.layers import trunc_normal_\n",
    "from timm.loss import LabelSmoothingCrossEntropy, SoftTargetCrossEntropy\n",
    "from timm.data.mixup import Mixup\n",
    "from sklearn.model_selection import StratifiedShuffleSplit\n",
    "\n",
    "import models.sensing as sensing\n",
    "\n",
    "from engine_finetune import train_one_epoch, evaluate\n",
    "from dataset_classes.radio_signal_identification_dataset import RadioSignal"
   ]
  },
  {
   "cell_type": "code",
   "execution_count": null,
   "metadata": {},
   "outputs": [],
   "source": [
    "splitter = StratifiedShuffleSplit(n_splits=1, train_size=0.8, test_size=0.2, random_state=seed)\n",
    "all_labels = [dataset[i][1] for i in range(len(dataset))]\n",
    "\n",
    "for train_idx, test_idx in splitter.split(range(len(dataset)), all_labels):\n",
    "    dataset_train = torch.utils.data.Subset(dataset, train_idx)\n",
    "    dataset_val = torch.utils.data.Subset(dataset, test_idx)"
   ]
  }
 ],
 "metadata": {
  "kernelspec": {
   "display_name": "pruning-venv",
   "language": "python",
   "name": "python3"
  },
  "language_info": {
   "codemirror_mode": {
    "name": "ipython",
    "version": 3
   },
   "file_extension": ".py",
   "mimetype": "text/x-python",
   "name": "python",
   "nbconvert_exporter": "python",
   "pygments_lexer": "ipython3",
   "version": "3.10.12"
  }
 },
 "nbformat": 4,
 "nbformat_minor": 2
}
